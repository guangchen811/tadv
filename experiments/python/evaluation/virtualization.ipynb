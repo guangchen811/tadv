{
 "cells": [
  {
   "cell_type": "code",
   "id": "initial_id",
   "metadata": {
    "collapsed": true,
    "ExecuteTime": {
     "end_time": "2025-03-17T15:15:50.088033Z",
     "start_time": "2025-03-17T15:15:49.848520Z"
    }
   },
   "source": [
    "from pathlib import Path\n",
    "\n",
    "import matplotlib.pyplot as plt\n",
    "import pandas as pd\n",
    "\n",
    "table_root = Path(\"./result_tables\")\n",
    "tables_path = [table for table in table_root.iterdir() if table.is_file()]"
   ],
   "outputs": [],
   "execution_count": 7
  },
  {
   "metadata": {
    "ExecuteTime": {
     "end_time": "2025-03-17T15:15:50.093675Z",
     "start_time": "2025-03-17T15:15:50.090661Z"
    }
   },
   "cell_type": "code",
   "source": [
    "for table_path in tables_path:\n",
    "    result_df = pd.read_csv(table_path)"
   ],
   "id": "36eb29163f0c0267",
   "outputs": [],
   "execution_count": 8
  }
 ],
 "metadata": {
  "kernelspec": {
   "display_name": "Python 3",
   "language": "python",
   "name": "python3"
  },
  "language_info": {
   "codemirror_mode": {
    "name": "ipython",
    "version": 2
   },
   "file_extension": ".py",
   "mimetype": "text/x-python",
   "name": "python",
   "nbconvert_exporter": "python",
   "pygments_lexer": "ipython2",
   "version": "2.7.6"
  }
 },
 "nbformat": 4,
 "nbformat_minor": 5
}

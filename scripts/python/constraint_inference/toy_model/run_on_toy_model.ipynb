{
 "cells": [
  {
   "metadata": {},
   "cell_type": "markdown",
   "source": "## import libraries",
   "id": "d49eae88c5e216a1"
  },
  {
   "metadata": {
    "ExecuteTime": {
     "end_time": "2025-01-21T10:44:43.734363Z",
     "start_time": "2025-01-21T10:44:43.724560Z"
    }
   },
   "cell_type": "code",
   "source": [
    "from cadv_exploration.utils import load_dotenv\n",
    "\n",
    "load_dotenv()\n",
    "from scripts.python.utils import setup_logger\n",
    "from llm.langchain.downstream_task_prompt import CD_TASK_DESCRIPTION\n",
    "from inspector.deequ.deequ_inspector_manager import DeequInspectorManager\n",
    "from llm.langchain import LangChainCADV\n",
    "from data_models import Constraints\n",
    "\n",
    "from loader import FileLoader\n",
    "\n",
    "from cadv_exploration.dq_manager import DeequDataQualityManager\n",
    "from cadv_exploration.utils import get_project_root\n",
    "import pandas as pd\n",
    "import oyaml as yaml\n",
    "\n",
    "logger = setup_logger(\"toy_example.log\")"
   ],
   "id": "37e1edb112312661",
   "outputs": [],
   "execution_count": 51
  },
  {
   "metadata": {},
   "cell_type": "markdown",
   "source": "## Load the data and utility functions",
   "id": "b1392370a0b77df8"
  },
  {
   "metadata": {
    "ExecuteTime": {
     "end_time": "2025-01-21T10:44:43.809951Z",
     "start_time": "2025-01-21T10:44:43.738102Z"
    }
   },
   "cell_type": "code",
   "source": [
    "dq_manager = DeequDataQualityManager()\n",
    "train_file_path = get_project_root() / \"data\" / \"toy_example\" / \"files\" / \"hospitalisations_train.csv\"\n",
    "test_file_path = get_project_root() / \"data\" / \"toy_example\" / \"files\" / \"hospitalisations_test.csv\"\n",
    "train_data = FileLoader.load_csv(train_file_path, na_values=[\"NULL\"])\n",
    "test_data = FileLoader.load_csv(test_file_path, na_values=[\"NULL\"])\n",
    "spark_train_data, spark_train = dq_manager.spark_df_from_pandas_df(train_data)\n",
    "spark_test_data, spark_test = dq_manager.spark_df_from_pandas_df(test_data)\n",
    "\n",
    "\n",
    "def validate_on_test_data(constraints, test_data):\n",
    "    code_column_map = constraints.get_suggestions_code_column_map(valid_only=False)\n",
    "    code_list = [item for item in code_column_map.keys()]\n",
    "    spark_test_data, spark_test = dq_manager.spark_df_from_pandas_df(test_data)\n",
    "    status_on_test_data = dq_manager.validate_on_spark_df(spark_test, spark_test_data, code_list,\n",
    "                                                          return_raw=True)\n",
    "    code_list_for_constraints = [\n",
    "        (code_list[i], status_on_test_data[i].constraint_status, status_on_test_data[i].constraint_message) for i\n",
    "        in\n",
    "        range(len(code_list))]\n",
    "    return pd.DataFrame(code_list_for_constraints, columns=[\"column_name\", \"constraint_status\", \"constraint_message\"])"
   ],
   "id": "4e329ba3a87f2f1d",
   "outputs": [],
   "execution_count": 52
  },
  {
   "metadata": {},
   "cell_type": "markdown",
   "source": "## get constraints with deequ",
   "id": "390efdabb51d2cd2"
  },
  {
   "metadata": {
    "ExecuteTime": {
     "end_time": "2025-01-21T10:44:45.310722Z",
     "start_time": "2025-01-21T10:44:43.845228Z"
    }
   },
   "cell_type": "code",
   "source": [
    "constraints = dq_manager.get_constraints_for_spark_df(spark_train, spark_train_data, spark_test,\n",
    "                                                      spark_test_data)\n",
    "print(yaml.dump(constraints.to_dict()))"
   ],
   "id": "1d1472b9e7634846",
   "outputs": [
    {
     "name": "stdout",
     "output_type": "stream",
     "text": [
      "constraints:\n",
      "  admission_day:\n",
      "    code:\n",
      "    - - .isComplete(\"admission_day\")\n",
      "      - Invalid\n",
      "    - - .isNonNegative(\"admission_day\")\n",
      "      - Valid\n",
      "    assumptions: []\n",
      "  bloodtype:\n",
      "    code:\n",
      "    - - .isComplete(\"bloodtype\")\n",
      "      - Valid\n",
      "    - - .isContainedIn(\"bloodtype\", [\"A pos\", \"O pos\"])\n",
      "      - Invalid\n",
      "    assumptions: []\n",
      "  complications:\n",
      "    code:\n",
      "    - - .isComplete(\"complications\")\n",
      "      - Valid\n",
      "    - - .isContainedIn(\"complications\", [\"N\"])\n",
      "      - Invalid\n",
      "    assumptions: []\n",
      "  cost:\n",
      "    code:\n",
      "    - - .isComplete(\"cost\")\n",
      "      - Valid\n",
      "    - - .isNonNegative(\"cost\")\n",
      "      - Valid\n",
      "    assumptions: []\n",
      "  diagnosis:\n",
      "    code:\n",
      "    - - .isComplete(\"diagnosis\")\n",
      "      - Invalid\n",
      "    assumptions: []\n",
      "  discharge_day:\n",
      "    code:\n",
      "    - - .isComplete(\"discharge_day\")\n",
      "      - Valid\n",
      "    - - .isNonNegative(\"discharge_day\")\n",
      "      - Valid\n",
      "    - - .isUnique(\"discharge_day\")\n",
      "      - Valid\n",
      "    assumptions: []\n",
      "  gender:\n",
      "    code:\n",
      "    - - .isComplete(\"gender\")\n",
      "      - Invalid\n",
      "    - - .isNonNegative(\"gender\")\n",
      "      - Valid\n",
      "    assumptions: []\n",
      "  insurance:\n",
      "    code:\n",
      "    - - .isComplete(\"insurance\")\n",
      "      - Valid\n",
      "    assumptions: []\n",
      "  race:\n",
      "    code:\n",
      "    - - .isComplete(\"race\")\n",
      "      - Valid\n",
      "    assumptions: []\n",
      "  ssn:\n",
      "    code:\n",
      "    - - .isComplete(\"ssn\")\n",
      "      - Valid\n",
      "    - - .isUnique(\"ssn\")\n",
      "      - Valid\n",
      "    assumptions: []\n",
      "\n"
     ]
    }
   ],
   "execution_count": 53
  },
  {
   "metadata": {},
   "cell_type": "markdown",
   "source": "## validate constraints on test data",
   "id": "7c2113319138c9e7"
  },
  {
   "metadata": {
    "collapsed": true,
    "ExecuteTime": {
     "end_time": "2025-01-21T10:44:46.319306Z",
     "start_time": "2025-01-21T10:44:45.319567Z"
    }
   },
   "cell_type": "code",
   "source": "validate_on_test_data(constraints, test_data)",
   "id": "initial_id",
   "outputs": [
    {
     "data": {
      "text/plain": [
       "                                        column_name constraint_status  \\\n",
       "0                               .isComplete(\"race\")           Success   \n",
       "1                      .isComplete(\"admission_day\")           Failure   \n",
       "2                   .isNonNegative(\"admission_day\")           Success   \n",
       "3                                .isComplete(\"ssn\")           Success   \n",
       "4                                  .isUnique(\"ssn\")           Success   \n",
       "5   .isContainedIn(\"bloodtype\", [\"A pos\", \"O pos\"])           Failure   \n",
       "6                          .isComplete(\"bloodtype\")           Success   \n",
       "7                          .isComplete(\"insurance\")           Success   \n",
       "8                      .isComplete(\"discharge_day\")           Success   \n",
       "9                   .isNonNegative(\"discharge_day\")           Success   \n",
       "10                       .isUnique(\"discharge_day\")           Success   \n",
       "11                         .isComplete(\"diagnosis\")           Failure   \n",
       "12                              .isComplete(\"cost\")           Success   \n",
       "13                           .isNonNegative(\"cost\")           Success   \n",
       "14                            .isComplete(\"gender\")           Failure   \n",
       "15                         .isNonNegative(\"gender\")           Success   \n",
       "16           .isContainedIn(\"complications\", [\"N\"])           Failure   \n",
       "17                     .isComplete(\"complications\")           Success   \n",
       "\n",
       "                                   constraint_message  \n",
       "0                                                      \n",
       "1   Value: 0.6666666666666666 does not meet the co...  \n",
       "2                                                      \n",
       "3                                                      \n",
       "4                                                      \n",
       "5   Value: 0.6666666666666666 does not meet the co...  \n",
       "6                                                      \n",
       "7                                                      \n",
       "8                                                      \n",
       "9                                                      \n",
       "10                                                     \n",
       "11  Value: 0.6666666666666666 does not meet the co...  \n",
       "12                                                     \n",
       "13                                                     \n",
       "14  Value: 0.6666666666666666 does not meet the co...  \n",
       "15                                                     \n",
       "16  Value: 0.6666666666666666 does not meet the co...  \n",
       "17                                                     "
      ],
      "text/html": [
       "<div>\n",
       "<style scoped>\n",
       "    .dataframe tbody tr th:only-of-type {\n",
       "        vertical-align: middle;\n",
       "    }\n",
       "\n",
       "    .dataframe tbody tr th {\n",
       "        vertical-align: top;\n",
       "    }\n",
       "\n",
       "    .dataframe thead th {\n",
       "        text-align: right;\n",
       "    }\n",
       "</style>\n",
       "<table border=\"1\" class=\"dataframe\">\n",
       "  <thead>\n",
       "    <tr style=\"text-align: right;\">\n",
       "      <th></th>\n",
       "      <th>column_name</th>\n",
       "      <th>constraint_status</th>\n",
       "      <th>constraint_message</th>\n",
       "    </tr>\n",
       "  </thead>\n",
       "  <tbody>\n",
       "    <tr>\n",
       "      <th>0</th>\n",
       "      <td>.isComplete(\"race\")</td>\n",
       "      <td>Success</td>\n",
       "      <td></td>\n",
       "    </tr>\n",
       "    <tr>\n",
       "      <th>1</th>\n",
       "      <td>.isComplete(\"admission_day\")</td>\n",
       "      <td>Failure</td>\n",
       "      <td>Value: 0.6666666666666666 does not meet the co...</td>\n",
       "    </tr>\n",
       "    <tr>\n",
       "      <th>2</th>\n",
       "      <td>.isNonNegative(\"admission_day\")</td>\n",
       "      <td>Success</td>\n",
       "      <td></td>\n",
       "    </tr>\n",
       "    <tr>\n",
       "      <th>3</th>\n",
       "      <td>.isComplete(\"ssn\")</td>\n",
       "      <td>Success</td>\n",
       "      <td></td>\n",
       "    </tr>\n",
       "    <tr>\n",
       "      <th>4</th>\n",
       "      <td>.isUnique(\"ssn\")</td>\n",
       "      <td>Success</td>\n",
       "      <td></td>\n",
       "    </tr>\n",
       "    <tr>\n",
       "      <th>5</th>\n",
       "      <td>.isContainedIn(\"bloodtype\", [\"A pos\", \"O pos\"])</td>\n",
       "      <td>Failure</td>\n",
       "      <td>Value: 0.6666666666666666 does not meet the co...</td>\n",
       "    </tr>\n",
       "    <tr>\n",
       "      <th>6</th>\n",
       "      <td>.isComplete(\"bloodtype\")</td>\n",
       "      <td>Success</td>\n",
       "      <td></td>\n",
       "    </tr>\n",
       "    <tr>\n",
       "      <th>7</th>\n",
       "      <td>.isComplete(\"insurance\")</td>\n",
       "      <td>Success</td>\n",
       "      <td></td>\n",
       "    </tr>\n",
       "    <tr>\n",
       "      <th>8</th>\n",
       "      <td>.isComplete(\"discharge_day\")</td>\n",
       "      <td>Success</td>\n",
       "      <td></td>\n",
       "    </tr>\n",
       "    <tr>\n",
       "      <th>9</th>\n",
       "      <td>.isNonNegative(\"discharge_day\")</td>\n",
       "      <td>Success</td>\n",
       "      <td></td>\n",
       "    </tr>\n",
       "    <tr>\n",
       "      <th>10</th>\n",
       "      <td>.isUnique(\"discharge_day\")</td>\n",
       "      <td>Success</td>\n",
       "      <td></td>\n",
       "    </tr>\n",
       "    <tr>\n",
       "      <th>11</th>\n",
       "      <td>.isComplete(\"diagnosis\")</td>\n",
       "      <td>Failure</td>\n",
       "      <td>Value: 0.6666666666666666 does not meet the co...</td>\n",
       "    </tr>\n",
       "    <tr>\n",
       "      <th>12</th>\n",
       "      <td>.isComplete(\"cost\")</td>\n",
       "      <td>Success</td>\n",
       "      <td></td>\n",
       "    </tr>\n",
       "    <tr>\n",
       "      <th>13</th>\n",
       "      <td>.isNonNegative(\"cost\")</td>\n",
       "      <td>Success</td>\n",
       "      <td></td>\n",
       "    </tr>\n",
       "    <tr>\n",
       "      <th>14</th>\n",
       "      <td>.isComplete(\"gender\")</td>\n",
       "      <td>Failure</td>\n",
       "      <td>Value: 0.6666666666666666 does not meet the co...</td>\n",
       "    </tr>\n",
       "    <tr>\n",
       "      <th>15</th>\n",
       "      <td>.isNonNegative(\"gender\")</td>\n",
       "      <td>Success</td>\n",
       "      <td></td>\n",
       "    </tr>\n",
       "    <tr>\n",
       "      <th>16</th>\n",
       "      <td>.isContainedIn(\"complications\", [\"N\"])</td>\n",
       "      <td>Failure</td>\n",
       "      <td>Value: 0.6666666666666666 does not meet the co...</td>\n",
       "    </tr>\n",
       "    <tr>\n",
       "      <th>17</th>\n",
       "      <td>.isComplete(\"complications\")</td>\n",
       "      <td>Success</td>\n",
       "      <td></td>\n",
       "    </tr>\n",
       "  </tbody>\n",
       "</table>\n",
       "</div>"
      ]
     },
     "execution_count": 54,
     "metadata": {},
     "output_type": "execute_result"
    }
   ],
   "execution_count": 54
  },
  {
   "metadata": {},
   "cell_type": "markdown",
   "source": "## prepare context for LLM",
   "id": "a59e0eec9d6450ec"
  },
  {
   "metadata": {
    "ExecuteTime": {
     "end_time": "2025-01-21T10:44:46.991954Z",
     "start_time": "2025-01-21T10:44:46.412173Z"
    }
   },
   "cell_type": "code",
   "source": [
    "column_desc = DeequInspectorManager().spark_df_to_column_desc(spark_train_data, spark_train)\n",
    "context = \"\"\"\n",
    "nonsensitive_df = duckdb.sql(\"SELECT * EXCLUDE ssn, gender, race\n",
    "FROM 's3://datalake/latest/hospitalisations.csv'\").df()\n",
    "hosp_df = nonsensitive_df.dropna()\n",
    "strokes_total = duckdb.sql(\"SELECT COUNT(*) FROM hosp_df\n",
    "WHERE diagnosis = 'stroke'\").fetch()\n",
    "strokes_for_rare_bloodtypes = duckdb.sql(\"SELECT COUNT(*)\n",
    "FROM hosp_df WHERE diagnosis = 'stroke'\n",
    "AND bloodtype IN ('AB negative', 'B negative')\").fetch()\n",
    "generate_report(strokes_total, strokes_for_rare_bloodtypes)\"\"\"\n",
    "result_path_cadv = \"toy_example_cadv_constraints.yaml\""
   ],
   "id": "cdd7d9faf4b74f8f",
   "outputs": [],
   "execution_count": 55
  },
  {
   "metadata": {
    "ExecuteTime": {
     "end_time": "2025-01-21T10:44:47.021477Z",
     "start_time": "2025-01-21T10:44:47.020051Z"
    }
   },
   "cell_type": "code",
   "source": "## run LLM on toy model with default settings",
   "id": "154de9c6e1d72693",
   "outputs": [],
   "execution_count": 56
  },
  {
   "metadata": {
    "ExecuteTime": {
     "end_time": "2025-01-21T10:44:55.834880Z",
     "start_time": "2025-01-21T10:44:47.029063Z"
    }
   },
   "cell_type": "code",
   "source": [
    "lc = LangChainCADV(model_name=\"gpt-4o\", downstream_task_description=CD_TASK_DESCRIPTION,\n",
    "                   assumption_generation_trick=None, logger=logger)\n",
    "\n",
    "relevant_columns_list, expectations, suggestions = lc.invoke(\n",
    "    input_variables={\"column_desc\": column_desc, \"script\": context},\n",
    "    num_stages=3,\n",
    "    max_retries=3\n",
    ")\n",
    "code_list_for_constraints = [item for v in suggestions.values() for item in v]\n",
    "\n",
    "# Validate the constraints on the original data to see if they are grammarly correct\n",
    "code_list_for_constraints_valid = dq_manager.filter_constraints(code_list_for_constraints, spark_test,\n",
    "                                                                spark_test_data)\n",
    "constraints = Constraints.from_llm_output(relevant_columns_list, expectations, suggestions,\n",
    "                                          code_list_for_constraints_valid)\n",
    "\n",
    "print(yaml.dump(constraints.to_dict()))"
   ],
   "id": "9d75a7daad9c8737",
   "outputs": [
    {
     "name": "stdout",
     "output_type": "stream",
     "text": [
      "constraints:\n",
      "  bloodtype:\n",
      "    code:\n",
      "    - - .isComplete('bloodtype')\n",
      "      - Valid\n",
      "    - - .isContainedIn('bloodtype', ['A positive', 'A negative', 'B positive', 'B\n",
      "        negative', 'AB positive', 'AB negative', 'O positive', 'O negative'])\n",
      "      - Invalid\n",
      "    assumptions:\n",
      "    - The value of the bloodtype column should be one of the expected blood types,\n",
      "      such as 'AB negative' or 'B negative'.\n",
      "  diagnosis:\n",
      "    code:\n",
      "    - - .isComplete('diagnosis')\n",
      "      - Invalid\n",
      "    - - .isContainedIn('diagnosis', ['stroke', 'heart attack', 'diabetes', 'cancer',\n",
      "        'asthma', 'migraine', 'flu', 'allergy', 'hypertension', 'pneumonia'])\n",
      "      - Invalid\n",
      "    assumptions:\n",
      "    - The value of the diagnosis column should be one of the expected medical conditions,\n",
      "      such as 'stroke'.\n",
      "\n"
     ]
    }
   ],
   "execution_count": 57
  },
  {
   "metadata": {},
   "cell_type": "markdown",
   "source": [
    "## run LLM on toy model with add_deequ trick\n",
    "\n",
    "It will add, delete and modify the constraints generated by deequ"
   ],
   "id": "330b66a1daeb54a2"
  },
  {
   "metadata": {
    "ExecuteTime": {
     "end_time": "2025-01-21T10:45:07.040750Z",
     "start_time": "2025-01-21T10:44:55.912514Z"
    }
   },
   "cell_type": "code",
   "source": [
    "deequ_assumptions = dq_manager.get_constraints_for_spark_df(spark_train, spark_train_data).to_string()\n",
    "lc = LangChainCADV(model_name=\"gpt-4o\", downstream_task_description=CD_TASK_DESCRIPTION,\n",
    "                   assumption_generation_trick='add_deequ', logger=logger)\n",
    "\n",
    "relevant_columns_list, expectations, suggestions = lc.invoke(\n",
    "    input_variables={\"column_desc\": column_desc, \"script\": context, \"deequ_assumptions\": deequ_assumptions},\n",
    "    num_stages=3,\n",
    "    max_retries=3\n",
    ")\n",
    "code_list_for_constraints = [item for v in suggestions.values() for item in v]\n",
    "\n",
    "# Validate the constraints on the original data to see if they are grammarly correct\n",
    "code_list_for_constraints_valid = dq_manager.filter_constraints(code_list_for_constraints, spark_test,\n",
    "                                                                spark_test_data)\n",
    "constraints = Constraints.from_llm_output(relevant_columns_list, expectations, suggestions,\n",
    "                                          code_list_for_constraints_valid)\n",
    "\n",
    "print(yaml.dump(constraints.to_dict()))"
   ],
   "id": "328460bacf4b46f4",
   "outputs": [
    {
     "name": "stdout",
     "output_type": "stream",
     "text": [
      "constraints:\n",
      "  bloodtype:\n",
      "    code:\n",
      "    - - .isComplete('bloodtype')\n",
      "      - Valid\n",
      "    - - .isContainedIn('bloodtype', ['A positive', 'A negative', 'B positive', 'B\n",
      "        negative', 'AB positive', 'AB negative', 'O positive', 'O negative'])\n",
      "      - Invalid\n",
      "    assumptions:\n",
      "    - The column 'bloodtype' should be complete, meaning no missing values are expected.\n",
      "    - The column 'bloodtype' is assumed to potentially include rare blood types 'AB\n",
      "      negative' and 'B negative' as they are explicitly queried in the code.\n",
      "  diagnosis:\n",
      "    code:\n",
      "    - - .isComplete('diagnosis')\n",
      "      - Invalid\n",
      "    - - .isContainedIn('diagnosis', ['stroke', 'heart attack', 'flu', 'pneumonia',\n",
      "        'cancer', 'diabetes', 'asthma', 'allergy', 'infection', 'injury'])\n",
      "      - Invalid\n",
      "    assumptions:\n",
      "    - The column 'diagnosis' should be complete, meaning no missing values are expected.\n",
      "    - The values in the column 'diagnosis' are assumed to include 'stroke' for the\n",
      "      specific queries in the downstream task.\n",
      "\n"
     ]
    }
   ],
   "execution_count": 58
  },
  {
   "metadata": {
    "ExecuteTime": {
     "end_time": "2025-01-21T10:45:07.414153Z",
     "start_time": "2025-01-21T10:45:07.129269Z"
    }
   },
   "cell_type": "code",
   "source": "validate_on_test_data(constraints, test_data)",
   "id": "72d6f28bc866bc12",
   "outputs": [
    {
     "data": {
      "text/plain": [
       "                                         column_name constraint_status  \\\n",
       "0                           .isComplete('diagnosis')           Failure   \n",
       "1  .isContainedIn('diagnosis', ['stroke', 'heart ...           Failure   \n",
       "2                           .isComplete('bloodtype')           Success   \n",
       "3  .isContainedIn('bloodtype', ['A positive', 'A ...           Failure   \n",
       "\n",
       "                                  constraint_message  \n",
       "0  Value: 0.6666666666666666 does not meet the co...  \n",
       "1  Value: 0.6666666666666666 does not meet the co...  \n",
       "2                                                     \n",
       "3  Value: 0.0 does not meet the constraint requir...  "
      ],
      "text/html": [
       "<div>\n",
       "<style scoped>\n",
       "    .dataframe tbody tr th:only-of-type {\n",
       "        vertical-align: middle;\n",
       "    }\n",
       "\n",
       "    .dataframe tbody tr th {\n",
       "        vertical-align: top;\n",
       "    }\n",
       "\n",
       "    .dataframe thead th {\n",
       "        text-align: right;\n",
       "    }\n",
       "</style>\n",
       "<table border=\"1\" class=\"dataframe\">\n",
       "  <thead>\n",
       "    <tr style=\"text-align: right;\">\n",
       "      <th></th>\n",
       "      <th>column_name</th>\n",
       "      <th>constraint_status</th>\n",
       "      <th>constraint_message</th>\n",
       "    </tr>\n",
       "  </thead>\n",
       "  <tbody>\n",
       "    <tr>\n",
       "      <th>0</th>\n",
       "      <td>.isComplete('diagnosis')</td>\n",
       "      <td>Failure</td>\n",
       "      <td>Value: 0.6666666666666666 does not meet the co...</td>\n",
       "    </tr>\n",
       "    <tr>\n",
       "      <th>1</th>\n",
       "      <td>.isContainedIn('diagnosis', ['stroke', 'heart ...</td>\n",
       "      <td>Failure</td>\n",
       "      <td>Value: 0.6666666666666666 does not meet the co...</td>\n",
       "    </tr>\n",
       "    <tr>\n",
       "      <th>2</th>\n",
       "      <td>.isComplete('bloodtype')</td>\n",
       "      <td>Success</td>\n",
       "      <td></td>\n",
       "    </tr>\n",
       "    <tr>\n",
       "      <th>3</th>\n",
       "      <td>.isContainedIn('bloodtype', ['A positive', 'A ...</td>\n",
       "      <td>Failure</td>\n",
       "      <td>Value: 0.0 does not meet the constraint requir...</td>\n",
       "    </tr>\n",
       "  </tbody>\n",
       "</table>\n",
       "</div>"
      ]
     },
     "execution_count": 59,
     "metadata": {},
     "output_type": "execute_result"
    }
   ],
   "execution_count": 59
  },
  {
   "metadata": {},
   "cell_type": "markdown",
   "source": "## run LLM on toy model with add_experience trick",
   "id": "e96914635cc618c2"
  },
  {
   "metadata": {
    "ExecuteTime": {
     "end_time": "2025-01-21T10:45:15.899019Z",
     "start_time": "2025-01-21T10:45:07.449175Z"
    }
   },
   "cell_type": "code",
   "source": [
    "lc = LangChainCADV(model_name=\"gpt-4o\", downstream_task_description=CD_TASK_DESCRIPTION,\n",
    "                   assumption_generation_trick=\"add_experience\", logger=logger)\n",
    "\n",
    "relevant_columns_list, expectations, suggestions = lc.invoke(\n",
    "    input_variables={\"column_desc\": column_desc, \"script\": context},\n",
    "    num_stages=3,\n",
    "    max_retries=3\n",
    ")\n",
    "code_list_for_constraints = [item for v in suggestions.values() for item in v]\n",
    "\n",
    "# Validate the constraints on the original data to see if they are grammarly correct\n",
    "code_list_for_constraints_valid = dq_manager.filter_constraints(code_list_for_constraints, spark_test,\n",
    "                                                                spark_test_data)\n",
    "constraints = Constraints.from_llm_output(relevant_columns_list, expectations, suggestions,\n",
    "                                          code_list_for_constraints_valid)\n",
    "\n",
    "print(yaml.dump(constraints.to_dict()))"
   ],
   "id": "364baf35bd6d5029",
   "outputs": [
    {
     "name": "stdout",
     "output_type": "stream",
     "text": [
      "constraints:\n",
      "  bloodtype:\n",
      "    code:\n",
      "    - - .isComplete('bloodtype')\n",
      "      - Valid\n",
      "    - - .isContainedIn('bloodtype', ['O pos', 'A pos', 'AB negative', 'B negative',\n",
      "        'O negative', 'A negative', 'B pos', 'AB pos'])\n",
      "      - Invalid\n",
      "    assumptions:\n",
      "    - 'The column ''bloodtype'' should have values within the observed range: ''O\n",
      "      pos'', ''A pos''. Additional reasonable values could include ''AB negative'',\n",
      "      ''B negative'', etc.'\n",
      "    - The column 'bloodtype' should be NOT NULL as it is complete in the sample.\n",
      "  diagnosis:\n",
      "    code:\n",
      "    - - .isComplete('diagnosis')\n",
      "      - Invalid\n",
      "    - - .isContainedIn('diagnosis', ['cancer', 'cough', 'fraction', 'stroke', 'flu',\n",
      "        'infection', 'fever', 'asthma', 'diabetes', 'hypertension', 'heart attack',\n",
      "        'pneumonia', 'allergy', 'migraine', 'arthritis', 'depression', 'anxiety',\n",
      "        'tuberculosis', 'malaria', 'HIV'])\n",
      "      - Invalid\n",
      "    assumptions:\n",
      "    - 'The column ''diagnosis'' should have values within the observed range: ''cancer'',\n",
      "      ''cough'', ''fraction''. Additional reasonable values could include ''stroke'',\n",
      "      ''flu'', etc.'\n",
      "    - The column 'diagnosis' should be NOT NULL as it is complete in the sample.\n",
      "\n"
     ]
    }
   ],
   "execution_count": 60
  },
  {
   "metadata": {
    "ExecuteTime": {
     "end_time": "2025-01-21T10:45:16.150864Z",
     "start_time": "2025-01-21T10:45:15.962063Z"
    }
   },
   "cell_type": "code",
   "source": "validate_on_test_data(constraints, test_data)",
   "id": "af4a959aaf2e0c92",
   "outputs": [
    {
     "data": {
      "text/plain": [
       "                                         column_name constraint_status  \\\n",
       "0                           .isComplete('diagnosis')           Failure   \n",
       "1  .isContainedIn('diagnosis', ['cancer', 'cough'...           Failure   \n",
       "2                           .isComplete('bloodtype')           Success   \n",
       "3  .isContainedIn('bloodtype', ['O pos', 'A pos',...           Failure   \n",
       "\n",
       "                                  constraint_message  \n",
       "0  Value: 0.6666666666666666 does not meet the co...  \n",
       "1  Value: 0.6666666666666666 does not meet the co...  \n",
       "2                                                     \n",
       "3  Value: 0.6666666666666666 does not meet the co...  "
      ],
      "text/html": [
       "<div>\n",
       "<style scoped>\n",
       "    .dataframe tbody tr th:only-of-type {\n",
       "        vertical-align: middle;\n",
       "    }\n",
       "\n",
       "    .dataframe tbody tr th {\n",
       "        vertical-align: top;\n",
       "    }\n",
       "\n",
       "    .dataframe thead th {\n",
       "        text-align: right;\n",
       "    }\n",
       "</style>\n",
       "<table border=\"1\" class=\"dataframe\">\n",
       "  <thead>\n",
       "    <tr style=\"text-align: right;\">\n",
       "      <th></th>\n",
       "      <th>column_name</th>\n",
       "      <th>constraint_status</th>\n",
       "      <th>constraint_message</th>\n",
       "    </tr>\n",
       "  </thead>\n",
       "  <tbody>\n",
       "    <tr>\n",
       "      <th>0</th>\n",
       "      <td>.isComplete('diagnosis')</td>\n",
       "      <td>Failure</td>\n",
       "      <td>Value: 0.6666666666666666 does not meet the co...</td>\n",
       "    </tr>\n",
       "    <tr>\n",
       "      <th>1</th>\n",
       "      <td>.isContainedIn('diagnosis', ['cancer', 'cough'...</td>\n",
       "      <td>Failure</td>\n",
       "      <td>Value: 0.6666666666666666 does not meet the co...</td>\n",
       "    </tr>\n",
       "    <tr>\n",
       "      <th>2</th>\n",
       "      <td>.isComplete('bloodtype')</td>\n",
       "      <td>Success</td>\n",
       "      <td></td>\n",
       "    </tr>\n",
       "    <tr>\n",
       "      <th>3</th>\n",
       "      <td>.isContainedIn('bloodtype', ['O pos', 'A pos',...</td>\n",
       "      <td>Failure</td>\n",
       "      <td>Value: 0.6666666666666666 does not meet the co...</td>\n",
       "    </tr>\n",
       "  </tbody>\n",
       "</table>\n",
       "</div>"
      ]
     },
     "execution_count": 61,
     "metadata": {},
     "output_type": "execute_result"
    }
   ],
   "execution_count": 61
  },
  {
   "metadata": {},
   "cell_type": "markdown",
   "source": "## stop spark",
   "id": "d0a5c80f3b20e679"
  },
  {
   "metadata": {
    "ExecuteTime": {
     "end_time": "2025-01-21T10:45:17.149445Z",
     "start_time": "2025-01-21T10:45:16.172081Z"
    }
   },
   "cell_type": "code",
   "source": [
    "spark_train.sparkContext._gateway.shutdown_callback_server()\n",
    "spark_train.stop()\n",
    "spark_test.sparkContext._gateway.shutdown_callback_server()\n",
    "spark_test.stop()"
   ],
   "id": "47301d26e5b93629",
   "outputs": [],
   "execution_count": 62
  }
 ],
 "metadata": {
  "kernelspec": {
   "display_name": "Python 3",
   "language": "python",
   "name": "python3"
  },
  "language_info": {
   "codemirror_mode": {
    "name": "ipython",
    "version": 2
   },
   "file_extension": ".py",
   "mimetype": "text/x-python",
   "name": "python",
   "nbconvert_exporter": "python",
   "pygments_lexer": "ipython2",
   "version": "2.7.6"
  }
 },
 "nbformat": 4,
 "nbformat_minor": 5
}

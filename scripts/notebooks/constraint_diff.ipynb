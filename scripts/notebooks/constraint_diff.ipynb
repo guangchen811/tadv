{
 "cells": [
  {
   "cell_type": "code",
   "id": "initial_id",
   "metadata": {
    "collapsed": true,
    "ExecuteTime": {
     "end_time": "2025-02-18T16:18:25.350438Z",
     "start_time": "2025-02-18T16:18:25.345431Z"
    }
   },
   "source": [
    "from difflib import SequenceMatcher\n",
    "\n",
    "a = \"\"\"The cat is sleeping on the red sofa.\"\"\"\n",
    "b = \"\"\"The cat is sleeping on a blue sofa...\"\"\"\n",
    "\n",
    "seq_match = SequenceMatcher(None, a, b)\n",
    "ratio = seq_match.ratio()\n",
    "print(ratio)  # Check the similarity of the two strings\n",
    "\n",
    "# The output similarity will be a decimal between 0 and 1, in our example it may output:\n",
    "# 0.821917808219178"
   ],
   "outputs": [
    {
     "name": "stdout",
     "output_type": "stream",
     "text": [
      "0.821917808219178\n"
     ]
    }
   ],
   "execution_count": 15
  },
  {
   "metadata": {
    "ExecuteTime": {
     "end_time": "2025-02-18T15:50:30.859969Z",
     "start_time": "2025-02-18T15:50:30.857778Z"
    }
   },
   "cell_type": "code",
   "source": [
    "from difflib import unified_diff\n",
    "\n",
    "diff = unified_diff(a.splitlines(), b.splitlines(), lineterm='')\n",
    "print('\\n'.join(list(diff)))\n"
   ],
   "id": "d9738608e30f52bc",
   "outputs": [
    {
     "name": "stdout",
     "output_type": "stream",
     "text": [
      "--- \n",
      "+++ \n",
      "@@ -1 +1 @@\n",
      "-The cat is sleeping on the red sofa.\n",
      "+The cat is sleeping on a blue sofa...\n"
     ]
    }
   ],
   "execution_count": 4
  },
  {
   "metadata": {
    "ExecuteTime": {
     "end_time": "2025-02-18T15:50:31.145021Z",
     "start_time": "2025-02-18T15:50:31.141701Z"
    }
   },
   "cell_type": "code",
   "source": [
    "from difflib import HtmlDiff\n",
    "\n",
    "d = HtmlDiff()\n",
    "html_diff = d.make_file(a.splitlines(), b.splitlines())  # a,b were defined earlier\n",
    "with open(\"diff.html\", \"w\", encoding=\"utf-8\") as f:\n",
    "    f.write(html_diff)"
   ],
   "id": "6dee288152e0098b",
   "outputs": [],
   "execution_count": 5
  },
  {
   "metadata": {
    "ExecuteTime": {
     "end_time": "2025-02-18T15:51:09.602655Z",
     "start_time": "2025-02-18T15:51:09.575750Z"
    }
   },
   "cell_type": "code",
   "source": [
    "from utils import get_project_root\n",
    "from cadv_exploration.data_models import Constraints\n",
    "\n",
    "data_name = \"healthcare_dataset\"\n",
    "processed_data_label = \"base_version\"\n",
    "script_name = \"bi_2\"\n",
    "\n",
    "processed_data_path = get_project_root() / \"data_processed\" / f\"{data_name}\" / f\"{processed_data_label}\" / \"constraints\"\n",
    "deequ_constraints_str = Constraints.from_yaml(processed_data_path / \"deequ_constraints.yaml\").to_string()\n",
    "cadv_constraints_str = Constraints.from_yaml(\n",
    "    processed_data_path / f\"{script_name}\" / \"tadv_constraints.yaml\").to_string()"
   ],
   "id": "fea790d68f8aa9a6",
   "outputs": [],
   "execution_count": 9
  },
  {
   "metadata": {
    "ExecuteTime": {
     "end_time": "2025-02-18T16:17:38.354342Z",
     "start_time": "2025-02-18T16:17:38.350503Z"
    }
   },
   "cell_type": "code",
   "source": [
    "diff = unified_diff(deequ_constraints_str.splitlines(), cadv_constraints_str.splitlines(), lineterm='')\n",
    "with open(\"diff.md\", \"w\") as f:\n",
    "    f.write(\"```diff\\n\")  # Start the Markdown code block for diff\n",
    "    f.writelines(line + \"\\n\" for line in diff)\n",
    "    f.write(\"```\\n\")  # Close the Markdown code block"
   ],
   "id": "f662dda1c7bbd094",
   "outputs": [],
   "execution_count": 14
  },
  {
   "metadata": {
    "ExecuteTime": {
     "end_time": "2025-02-18T15:51:10.309861Z",
     "start_time": "2025-02-18T15:51:10.302727Z"
    }
   },
   "cell_type": "code",
   "source": [
    "from difflib import HtmlDiff\n",
    "\n",
    "d = HtmlDiff()\n",
    "html_diff = d.make_file(deequ_constraints_str.splitlines(), cadv_constraints_str.splitlines())\n",
    "with open(\"diff.html\", \"w\", encoding=\"utf-8\") as f:\n",
    "    f.write(html_diff)"
   ],
   "id": "84aa478139d0157f",
   "outputs": [],
   "execution_count": 11
  }
 ],
 "metadata": {
  "kernelspec": {
   "display_name": "Python 3",
   "language": "python",
   "name": "python3"
  },
  "language_info": {
   "codemirror_mode": {
    "name": "ipython",
    "version": 2
   },
   "file_extension": ".py",
   "mimetype": "text/x-python",
   "name": "python",
   "nbconvert_exporter": "python",
   "pygments_lexer": "ipython2",
   "version": "2.7.6"
  }
 },
 "nbformat": 4,
 "nbformat_minor": 5
}

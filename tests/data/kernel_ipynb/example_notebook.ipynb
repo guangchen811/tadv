{
 "cells": [
  {
   "metadata": {},
   "cell_type": "markdown",
   "source": "# Example Notebook",
   "id": "bd49d90dec8698d9"
  },
  {
   "cell_type": "code",
   "id": "initial_id",
   "metadata": {
    "collapsed": true
   },
   "source": [
    "get_ipython().run_line_magic('matplotlib', 'inline')\n",
    "get_ipython().system('pip install -U tqdm')\n",
    "import pandas as pd"
   ],
   "outputs": [],
   "execution_count": null
  },
  {
   "metadata": {},
   "cell_type": "code",
   "source": [
    "# Load the data\n",
    "df = pd.read_csv('/kaggle/input/data/example_table.csv')\n",
    "\n",
    "print(df.columns)"
   ],
   "id": "1f392b86c96e4b7",
   "outputs": [],
   "execution_count": null
  },
  {
   "metadata": {},
   "cell_type": "code",
   "outputs": [],
   "execution_count": null,
   "source": "df['FullName'] = df['FirstName'] + ' ' + df['LastName']",
   "id": "adc305a44d8f79ec"
  },
  {
   "metadata": {},
   "cell_type": "code",
   "outputs": [],
   "execution_count": null,
   "source": "df.to_csv('submission.csv', index=False)",
   "id": "2cea8d2966db868a"
  }
 ],
 "metadata": {
  "kernelspec": {
   "display_name": "Python 3",
   "language": "python",
   "name": "python3"
  },
  "language_info": {
   "codemirror_mode": {
    "name": "ipython",
    "version": 2
   },
   "file_extension": ".py",
   "mimetype": "text/x-python",
   "name": "python",
   "nbconvert_exporter": "python",
   "pygments_lexer": "ipython2",
   "version": "2.7.6"
  }
 },
 "nbformat": 4,
 "nbformat_minor": 5
}
